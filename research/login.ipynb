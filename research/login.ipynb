{
 "cells": [
  {
   "cell_type": "code",
   "execution_count": 25,
   "metadata": {},
   "outputs": [
    {
     "data": {
      "text/plain": [
       "True"
      ]
     },
     "execution_count": 25,
     "metadata": {},
     "output_type": "execute_result"
    }
   ],
   "source": [
    "from openbb import obb\n",
    "from dotenv import load_dotenv, dotenv_values\n",
    "import os\n",
    "\n",
    "load_dotenv('../.env')"
   ]
  },
  {
   "cell_type": "code",
   "execution_count": 26,
   "metadata": {},
   "outputs": [],
   "source": [
    "YOUR_TOKEN_ID = os.environ['PERSONAL_ACCESS_TOKEN']\n",
    "obb.account.login(pat=YOUR_TOKEN_ID)"
   ]
  },
  {
   "cell_type": "code",
   "execution_count": 27,
   "metadata": {},
   "outputs": [
    {
     "data": {
      "text/plain": [
       "OBBject\n",
       "\n",
       "id: 06586888-99a0-7235-8000-46801249bfd2\n",
       "results: [{'date': datetime.datetime(2023, 12, 22, 0, 0), 'open': 473.86, 'high': 4...\n",
       "provider: alpha_vantage\n",
       "warnings: None\n",
       "chart: None\n",
       "extra: {'metadata': {'arguments': {'provider_choices': {'provider': None}, 'standar..."
      ]
     },
     "execution_count": 27,
     "metadata": {},
     "output_type": "execute_result"
    }
   ],
   "source": [
    "df_daily = obb.equity.price.historical(symbol=\"spy\")\n",
    "df_daily"
   ]
  }
 ],
 "metadata": {
  "kernelspec": {
   "display_name": "tf-env",
   "language": "python",
   "name": "python3"
  },
  "language_info": {
   "codemirror_mode": {
    "name": "ipython",
    "version": 3
   },
   "file_extension": ".py",
   "mimetype": "text/x-python",
   "name": "python",
   "nbconvert_exporter": "python",
   "pygments_lexer": "ipython3",
   "version": "3.10.13"
  }
 },
 "nbformat": 4,
 "nbformat_minor": 2
}
